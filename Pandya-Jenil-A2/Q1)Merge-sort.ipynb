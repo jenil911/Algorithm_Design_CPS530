{
 "cells": [
  {
   "cell_type": "markdown",
   "metadata": {},
   "source": [
    "### Q1. Merge Sort Implmentation\n",
    "Function Definition: merge_sort(arr) defines a function that sorts an array using the Merge Sort algorithm.\n",
    "\n",
    "Base Case: The function checks if the array has more than one element; if not, it doesn't need sorting. Splitting the Array: The array is split into two halves, L (left) and R (right), using slicing. Recursive Sorting: The function calls itself on each half to sort them independently.\n",
    "\n",
    "Merging Process: The two sorted halves are merged together by comparing the elements, ensuring that the merged result is sorted. Handling Leftovers: If any elements remain in one half after merging, they're added to the sorted array.\n",
    "\n",
    "User Input: The user is asked to input a list of numbers separated by commas. Conversion: The input is split and converted into a list of integers. Sorting and Output: The MergeSort function is called on the input list, and the sorted result is printed."
   ]
  },
  {
   "cell_type": "code",
   "execution_count": 2,
   "metadata": {},
   "outputs": [
    {
     "name": "stdout",
     "output_type": "stream",
     "text": [
      "Sorted List: [1, 2, 5, 8, 9, 16, 17, 19, 25]\n"
     ]
    }
   ],
   "source": [
    "# MergeSort implementation\n",
    "def merge_sort(arr):\n",
    "    # Base case: If the array has only one element or less, it's already sorted\n",
    "    if len(arr) > 1:\n",
    "        # Finding the middle of the array\n",
    "        mid = len(arr) // 2\n",
    "\n",
    "        # Dividing the array into two halves\n",
    "        L = arr[:mid]\n",
    "        R = arr[mid:]\n",
    "\n",
    "        # Recursively sorting the left half\n",
    "        merge_sort(L)\n",
    "\n",
    "        # Recursively sorting the right half\n",
    "        merge_sort(R)\n",
    "\n",
    "        # Initialize pointers for both halves and the main array\n",
    "        i = j = k = 0\n",
    "\n",
    "        # Merge the two halves by comparing elements one by one\n",
    "        while i < len(L) and j < len(R):\n",
    "            if L[i] < R[j]:   # If the element in the left half is smaller, take it\n",
    "                arr[k] = L[i]\n",
    "                i += 1\n",
    "            else:             # Otherwise, take the element from the right half\n",
    "                arr[k] = R[j]\n",
    "                j += 1\n",
    "            k += 1\n",
    "\n",
    "        # If any elements remain in the left half, add them to the sorted array\n",
    "        while i < len(L):\n",
    "            arr[k] = L[i]\n",
    "            i += 1\n",
    "            k += 1\n",
    "\n",
    "        # If any elements remain in the right half, add them to the sorted array\n",
    "        while j < len(R):\n",
    "            arr[k] = R[j]\n",
    "            j += 1\n",
    "            k += 1\n",
    "\n",
    "    # Return the sorted array (optional in-place sorting)\n",
    "    return arr\n",
    "\n",
    "# Prompt the user to enter numbers, separated by commas\n",
    "input_string = input(\"Enter the list of numbers (comma-separated): \")\n",
    "\n",
    "# Convert the input string into a list of integers\n",
    "numbers = list(map(int, input_string.split(',')))\n",
    "\n",
    "# Perform MergeSort on the user's input\n",
    "sorted_numbers = merge_sort(numbers)\n",
    "\n",
    "# Print the sorted list to the user\n",
    "print(\"Sorted List:\", sorted_numbers)\n"
   ]
  }
 ],
 "metadata": {
  "kernelspec": {
   "display_name": "Python 3",
   "language": "python",
   "name": "python3"
  },
  "language_info": {
   "codemirror_mode": {
    "name": "ipython",
    "version": 3
   },
   "file_extension": ".py",
   "mimetype": "text/x-python",
   "name": "python",
   "nbconvert_exporter": "python",
   "pygments_lexer": "ipython3",
   "version": "3.12.7"
  }
 },
 "nbformat": 4,
 "nbformat_minor": 2
}
