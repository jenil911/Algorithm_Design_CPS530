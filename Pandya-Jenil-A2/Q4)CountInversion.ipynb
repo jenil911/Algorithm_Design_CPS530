{
 "cells": [
  {
   "cell_type": "markdown",
   "metadata": {},
   "source": [
    "### Q4 Count Number Of Inversions\n",
    "merge_and_count function:\n",
    "\n",
    "It takes two sorted halves (left_half and right_half), merges them into a sorted array (sorted_arr), and counts how many inversions occur between elements in the left and right halves.\n",
    "The inversion count is updated whenever an element from the right half is smaller than an element in the left half.\n",
    "The function returns the sorted array and the number of inversions.\n",
    "merge_sort_and_count function:\n",
    "\n",
    "This is a recursive merge sort function that splits the array into two halves, sorts them, and counts inversions using merge_and_count.\n",
    "It returns the fully sorted array and the total number of inversions.\n",
    "User Input:\n",
    "\n",
    "The user is prompted to input a list of numbers separated by commas, which is then converted into a list of integers to be processed by the merge sort function.\n",
    "Final Output:\n",
    "\n",
    "The program prints the sorted array and the total number of inversions found during the sorting process.\n"
   ]
  },
  {
   "cell_type": "code",
   "execution_count": 5,
   "metadata": {},
   "outputs": [
    {
     "name": "stdout",
     "output_type": "stream",
     "text": [
      "Sorted array: [2, 4, 5, 6, 9, 10, 12, 14, 15, 17]\n",
      "Total number of inversions: 14\n"
     ]
    }
   ],
   "source": [
    "# Function to merge two halves and count inversions\n",
    "def merge_and_count(left_half, right_half):\n",
    "    # This list will store the sorted elements\n",
    "    sorted_arr = []\n",
    "    # i and j are pointers for left_half and right_half respectively\n",
    "    i = j = 0\n",
    "    # Initialize inversion count to 0\n",
    "    inversions = 0\n",
    "    # Total number of elements in the left half\n",
    "    total_left = len(left_half)\n",
    "    \n",
    "    # While both halves have unprocessed elements, compare and merge\n",
    "    while i < len(left_half) and j < len(right_half):\n",
    "        # If the current element of the left half is smaller or equal, no inversion\n",
    "        if left_half[i] <= right_half[j]:\n",
    "            # Add the element from the left half to the sorted array\n",
    "            sorted_arr.append(left_half[i])\n",
    "            i += 1  # Move pointer of the left half\n",
    "        else:\n",
    "            # If the right half element is smaller, it's an inversion\n",
    "            sorted_arr.append(right_half[j])\n",
    "            # Count how many elements are remaining in the left half\n",
    "            # because all remaining elements in left_half are greater than right_half[j]\n",
    "            inversions += total_left - i\n",
    "            j += 1  # Move pointer of the right half\n",
    "    \n",
    "    # After one of the halves is exhausted, add the remaining elements of left_half\n",
    "    while i < len(left_half):\n",
    "        sorted_arr.append(left_half[i])\n",
    "        i += 1\n",
    "    \n",
    "    # Similarly, add remaining elements of right_half if any\n",
    "    while j < len(right_half):\n",
    "        sorted_arr.append(right_half[j])\n",
    "        j += 1\n",
    "\n",
    "    # Return the merged sorted array and the number of inversions counted\n",
    "    return sorted_arr, inversions\n",
    "\n",
    "# Merge Sort function that returns sorted array and counts inversions\n",
    "def merge_sort_and_count(arr):\n",
    "    # Base case: If the array has one or no elements, it’s already sorted, and no inversions\n",
    "    if len(arr) <= 1:\n",
    "        return arr, 0\n",
    "    \n",
    "    # Find the middle point to divide the array into two halves\n",
    "    mid = len(arr) // 2\n",
    "    # Recursively sort the left half and count inversions in the left half\n",
    "    left_half, left_inversions = merge_sort_and_count(arr[:mid])\n",
    "    # Recursively sort the right half and count inversions in the right half\n",
    "    right_half, right_inversions = merge_sort_and_count(arr[mid:])\n",
    "    \n",
    "    # Merge the sorted halves and count inversions between them\n",
    "    merged_arr, split_inversions = merge_and_count(left_half, right_half)\n",
    "    \n",
    "    # Total inversions = inversions from left half + right half + across the two halves\n",
    "    total_inversions = left_inversions + right_inversions + split_inversions\n",
    "    \n",
    "    # Return the merged sorted array and the total number of inversions\n",
    "    return merged_arr, total_inversions\n",
    "\n",
    "# Request user input: a list of numbers separated by commas\n",
    "input_list = input(\"Enter a list of numbers separated by commas: \").split(',')\n",
    "# Convert the input string into a list of integers\n",
    "arr = list(map(int, input_list))\n",
    "\n",
    "# Get the sorted array and the total number of inversions\n",
    "sorted_arr, total_inversions = merge_sort_and_count(arr)\n",
    "\n",
    "# Output the sorted array and the number of inversions\n",
    "print(\"Sorted array:\", sorted_arr)\n",
    "print(\"Total number of inversions:\", total_inversions)\n"
   ]
  }
 ],
 "metadata": {
  "kernelspec": {
   "display_name": "Python 3",
   "language": "python",
   "name": "python3"
  },
  "language_info": {
   "codemirror_mode": {
    "name": "ipython",
    "version": 3
   },
   "file_extension": ".py",
   "mimetype": "text/x-python",
   "name": "python",
   "nbconvert_exporter": "python",
   "pygments_lexer": "ipython3",
   "version": "3.12.7"
  }
 },
 "nbformat": 4,
 "nbformat_minor": 2
}
